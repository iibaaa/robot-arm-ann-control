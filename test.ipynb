{
 "cells": [
  {
   "cell_type": "code",
   "execution_count": 14,
   "id": "initial_id",
   "metadata": {
    "collapsed": true,
    "ExecuteTime": {
     "end_time": "2023-12-24T11:19:01.832639505Z",
     "start_time": "2023-12-24T11:19:01.784428530Z"
    }
   },
   "outputs": [],
   "source": [
    "import os\n",
    "import numpy as np\n",
    "import roboticstoolbox as rtb\n",
    "from math import degrees, radians\n",
    "import argparse\n",
    "\n",
    "\n",
    "# DH Parameters\n",
    "a = [0, 0.002, 0.14679, 0.17751]\n",
    "d = [-0.06858, 0, 0, 0]\n",
    "alpha = [np.pi, np.pi / 2, np.pi, np.pi]\n",
    "offset = [np.pi / 2, np.pi, -0.0427, -0.0427 - np.pi / 2]\n",
    "teta_limits = np.array([[-np.pi/2, np.pi/2],\n",
    "                        [-np.pi/2, np.pi/2],\n",
    "                        [-np.pi/2, np.pi/2],\n",
    "                        [-np.pi/2, np.pi/2]])\n",
    "\n",
    "# Create robot model from dh parameters\n",
    "links = []\n",
    "for i in range(4):\n",
    "    links.append(rtb.RevoluteMDH(a=a[i], d=d[i], alpha=alpha[i], offset=offset[i], qlim=teta_limits[i]))\n",
    "\n",
    "robot = rtb.Robot(links, name='AL5D')\n",
    "\n",
    "robot2 = rtb.models.AL5D()"
   ]
  },
  {
   "cell_type": "code",
   "execution_count": 15,
   "outputs": [
    {
     "name": "stdout",
     "output_type": "stream",
     "text": [
      "ERobot: AL5D, 4 joints (RRRR), dynamics\n",
      "┌─────┬─────────┬───────┬────────┬──────────────────────────────────────────────┐\n",
      "│link │  link   │ joint │ parent │             ETS: parent to link              │\n",
      "├─────┼─────────┼───────┼────────┼──────────────────────────────────────────────┤\n",
      "│   0\u001B[0m │ link-0\u001B[0m  │     0\u001B[0m │ BASE\u001B[0m   │ Rx(180°) ⊕ Rz(90°) ⊕ tz(-0.06858) ⊕ Rz(q0)\u001B[0m   │\n",
      "│   1\u001B[0m │ link-1\u001B[0m  │     1\u001B[0m │ link-0\u001B[0m │ tx(0.002) ⊕ Rx(90°) ⊕ Rz(180°) ⊕ Rz(q1)\u001B[0m      │\n",
      "│   2\u001B[0m │ link-2\u001B[0m  │     2\u001B[0m │ link-1\u001B[0m │ tx(0.1468) ⊕ Rx(180°) ⊕ Rz(-2.447°) ⊕ Rz(q2)\u001B[0m │\n",
      "│   3\u001B[0m │ @link-3\u001B[0m │     3\u001B[0m │ link-2\u001B[0m │ tx(0.1775) ⊕ Rx(180°) ⊕ Rz(-92.45°) ⊕ Rz(q3)\u001B[0m │\n",
      "└─────┴─────────┴───────┴────────┴──────────────────────────────────────────────┘\n",
      "\n",
      "ERobot: AL5D (by Lynxmotion), 4 joints (RRRR), dynamics, geometry\n",
      "┌─────┬────────┬───────┬────────┬─────────────────────────────────────────────────────┐\n",
      "│link │  link  │ joint │ parent │                 ETS: parent to link                 │\n",
      "├─────┼────────┼───────┼────────┼─────────────────────────────────────────────────────┤\n",
      "│   0\u001B[0m │ \u001B[38;5;4mbase\u001B[0m   │      \u001B[0m │ BASE\u001B[0m   │ SE3()\u001B[0m                                               │\n",
      "│   1\u001B[0m │ link1\u001B[0m  │     0\u001B[0m │ base\u001B[0m   │ SE3(0, 0, 0.06858; 180°, 3.379e-08°, 180°) ⊕ Rz(q0)\u001B[0m │\n",
      "│   2\u001B[0m │ link2\u001B[0m  │     1\u001B[0m │ link1\u001B[0m  │ SE3(0.002, 0, 0; 0°, 90°, -90°) ⊕ Rz(q1)\u001B[0m            │\n",
      "│   3\u001B[0m │ link3\u001B[0m  │     2\u001B[0m │ link2\u001B[0m  │ SE3(0.1468, 0, 0; 180°, 3.379e-08°, -90°) ⊕ Rz(q2)\u001B[0m  │\n",
      "│   4\u001B[0m │ @link4\u001B[0m │     3\u001B[0m │ link3\u001B[0m  │ SE3(0.1775, 0, 0; 180°, -0°, 90°) ⊕ Rz(q3)\u001B[0m          │\n",
      "└─────┴────────┴───────┴────────┴─────────────────────────────────────────────────────┘\n",
      "\n",
      "┌─────┬─────┬─────┬──────┬─────┐\n",
      "│name │ q0  │ q1  │ q2   │ q3  │\n",
      "├─────┼─────┼─────┼──────┼─────┤\n",
      "│  qz\u001B[0m │  0°\u001B[0m │  0°\u001B[0m │  0°\u001B[0m  │  0°\u001B[0m │\n",
      "│  up\u001B[0m │  0°\u001B[0m │  0°\u001B[0m │  90°\u001B[0m │  0°\u001B[0m │\n",
      "└─────┴─────┴─────┴──────┴─────┘\n"
     ]
    }
   ],
   "source": [
    "print(robot)\n",
    "print(robot2)"
   ],
   "metadata": {
    "collapsed": false,
    "ExecuteTime": {
     "end_time": "2023-12-24T11:19:03.881278170Z",
     "start_time": "2023-12-24T11:19:03.862223270Z"
    }
   },
   "id": "8579d8b3b34bd466"
  },
  {
   "cell_type": "code",
   "execution_count": 16,
   "outputs": [
    {
     "data": {
      "text/plain": "  \u001B[38;5;1m 0       \u001B[0m \u001B[38;5;1m-0.9589  \u001B[0m \u001B[38;5;1m 0.2837  \u001B[0m \u001B[38;5;4m-0.3089  \u001B[0m  \u001B[0m\n  \u001B[38;5;1m 0       \u001B[0m \u001B[38;5;1m 0.2837  \u001B[0m \u001B[38;5;1m 0.9589  \u001B[0m \u001B[38;5;4m 0.09138 \u001B[0m  \u001B[0m\n  \u001B[38;5;1m-1       \u001B[0m \u001B[38;5;1m 0       \u001B[0m \u001B[38;5;1m 0       \u001B[0m \u001B[38;5;4m 0.07616 \u001B[0m  \u001B[0m\n  \u001B[38;5;244m 0       \u001B[0m \u001B[38;5;244m 0       \u001B[0m \u001B[38;5;244m 0       \u001B[0m \u001B[38;5;244m 1       \u001B[0m  \u001B[0m\n"
     },
     "execution_count": 16,
     "metadata": {},
     "output_type": "execute_result"
    }
   ],
   "source": [
    "robot.fkine([5, 0, 0, 0])"
   ],
   "metadata": {
    "collapsed": false,
    "ExecuteTime": {
     "end_time": "2023-12-24T11:19:21.352671859Z",
     "start_time": "2023-12-24T11:19:21.310534877Z"
    }
   },
   "id": "30ae64761b17968d"
  },
  {
   "cell_type": "code",
   "execution_count": 17,
   "outputs": [
    {
     "data": {
      "text/plain": "  \u001B[38;5;1m-1.131e-09\u001B[0m \u001B[38;5;1m 0.2837  \u001B[0m \u001B[38;5;1m 0.9589  \u001B[0m \u001B[38;5;4m 0.04979 \u001B[0m  \u001B[0m\n  \u001B[38;5;1m 5.091e-10\u001B[0m \u001B[38;5;1m 0.9589  \u001B[0m \u001B[38;5;1m-0.2837  \u001B[0m \u001B[38;5;4m 0.1683  \u001B[0m  \u001B[0m\n  \u001B[38;5;1m-1       \u001B[0m \u001B[38;5;1m 1.673e-10\u001B[0m \u001B[38;5;1m-1.229e-09\u001B[0m \u001B[38;5;4m 0.2154  \u001B[0m  \u001B[0m\n  \u001B[38;5;244m 0       \u001B[0m \u001B[38;5;244m 0       \u001B[0m \u001B[38;5;244m 0       \u001B[0m \u001B[38;5;244m 1       \u001B[0m  \u001B[0m\n"
     },
     "execution_count": 17,
     "metadata": {},
     "output_type": "execute_result"
    }
   ],
   "source": [
    "robot2.fkine([5, 0, 0, 0])"
   ],
   "metadata": {
    "collapsed": false,
    "ExecuteTime": {
     "end_time": "2023-12-24T11:19:21.888002846Z",
     "start_time": "2023-12-24T11:19:21.885222262Z"
    }
   },
   "id": "82c29a324dae04b5"
  },
  {
   "cell_type": "code",
   "execution_count": null,
   "outputs": [],
   "source": [],
   "metadata": {
    "collapsed": false
   },
   "id": "3ee588c5eb4240cf"
  }
 ],
 "metadata": {
  "kernelspec": {
   "display_name": "Python 3",
   "language": "python",
   "name": "python3"
  },
  "language_info": {
   "codemirror_mode": {
    "name": "ipython",
    "version": 2
   },
   "file_extension": ".py",
   "mimetype": "text/x-python",
   "name": "python",
   "nbconvert_exporter": "python",
   "pygments_lexer": "ipython2",
   "version": "2.7.6"
  }
 },
 "nbformat": 4,
 "nbformat_minor": 5
}
